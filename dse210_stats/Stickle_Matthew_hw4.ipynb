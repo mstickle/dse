{
 "cells": [
  {
   "cell_type": "markdown",
   "id": "f44d70d3-67a6-40d6-a41a-e94bb21837b1",
   "metadata": {},
   "source": [
    "# Homework 4\n",
    "## Author: Matthew Stickle"
   ]
  },
  {
   "cell_type": "markdown",
   "id": "5e7d4461-6180-408d-ac2b-c7154911e581",
   "metadata": {},
   "source": [
    "# WS 9 Q4"
   ]
  },
  {
   "cell_type": "code",
   "execution_count": 1,
   "id": "cd4556de-8b44-4856-a035-e13d03e13272",
   "metadata": {},
   "outputs": [],
   "source": [
    "import random\n",
    "import time\n",
    "\n",
    "import numpy as np\n",
    "import matplotlib.pyplot as plt\n",
    "\n",
    "from sklearn.model_selection import train_test_split\n",
    "from sklearn.metrics import accuracy_score\n",
    "from scipy.stats import multivariate_normal\n",
    "\n",
    "from loader import loadmnist"
   ]
  },
  {
   "cell_type": "code",
   "execution_count": 2,
   "id": "a3e89ffe-c966-455f-82ff-e428da953602",
   "metadata": {},
   "outputs": [
    {
     "name": "stdout",
     "output_type": "stream",
     "text": [
      "4a: Loading in train and test data\n"
     ]
    }
   ],
   "source": [
    "print(\"4a: Loading in train and test data\")"
   ]
  },
  {
   "cell_type": "code",
   "execution_count": 3,
   "id": "44f0bcdf-b291-4a57-8544-5968979a5d5d",
   "metadata": {},
   "outputs": [
    {
     "name": "stdout",
     "output_type": "stream",
     "text": [
      "x type: <class 'numpy.ndarray'> x shape: (60000, 784)\n",
      "y type: <class 'numpy.ndarray'> y shape: (60000,)\n"
     ]
    }
   ],
   "source": [
    "# load in training set\n",
    "x, y = loadmnist('train-images.idx3-ubyte', 'train-labels.idx1-ubyte')\n",
    "print(f\"x type: {type(x)} x shape: {x.shape}\\ny type: {type(y)} y shape: {y.shape}\")"
   ]
  },
  {
   "cell_type": "code",
   "execution_count": 4,
   "id": "9f6c68ea-66f2-4679-a087-4e27200d1399",
   "metadata": {},
   "outputs": [
    {
     "name": "stdout",
     "output_type": "stream",
     "text": [
      "test_x type: <class 'numpy.ndarray'> test_x shape: (10000, 784)\n",
      "x_true type: <class 'numpy.ndarray'> x_true shape: (10000,)\n"
     ]
    }
   ],
   "source": [
    "# load in testing set\n",
    "test_x, test_y = loadmnist('t10k-images.idx3-ubyte', 't10k-labels.idx1-ubyte')\n",
    "print(f\"test_x type: {type(test_x)} test_x shape: {test_x.shape}\\nx_true type: {type(test_y)} x_true shape: {test_y.shape}\")"
   ]
  },
  {
   "cell_type": "code",
   "execution_count": 5,
   "id": "ece88777-5d6d-44f9-a46e-4be7f7508633",
   "metadata": {},
   "outputs": [
    {
     "name": "stdout",
     "output_type": "stream",
     "text": [
      "4b: Split training into train and validation set\n"
     ]
    }
   ],
   "source": [
    "print(\"4b: Split training into train and validation set\")"
   ]
  },
  {
   "cell_type": "code",
   "execution_count": 6,
   "id": "9de99f0a-70b6-46e7-b01b-3f0ed8c6cda1",
   "metadata": {},
   "outputs": [
    {
     "name": "stdout",
     "output_type": "stream",
     "text": [
      "x_train type: <class 'numpy.ndarray'> x_train shape: (50000, 784)\n",
      "x_true type: <class 'numpy.ndarray'> x_true shape: (50000,)\n",
      "x_val type: <class 'numpy.ndarray'> x_val shape: (10000, 784)\n",
      "val_true type: <class 'numpy.ndarray'> x_true shape: (10000,)\n"
     ]
    }
   ],
   "source": [
    "# split train images and labels into train and validation\n",
    "x_train, x_val, x_true, val_true = train_test_split(x, y, test_size=0.16666, random_state=0)\n",
    "print(f\"x_train type: {type(x_train)} x_train shape: {x_train.shape}\\nx_true type: {type(x_true)} x_true shape: {x_true.shape}\")\n",
    "print(f\"x_val type: {type(x_val)} x_val shape: {x_val.shape}\\nval_true type: {type(val_true)} x_true shape: {val_true.shape}\")\n",
    "assert x_train.shape[0] == 50000"
   ]
  },
  {
   "cell_type": "code",
   "execution_count": 7,
   "id": "6df2c1f0-157f-44db-9557-241b6ce519d4",
   "metadata": {},
   "outputs": [
    {
     "name": "stdout",
     "output_type": "stream",
     "text": [
      "4c: Part 1: Find probabilities of digits\n"
     ]
    }
   ],
   "source": [
    "print(\"4c: Part 1: Find probabilities of digits\")"
   ]
  },
  {
   "cell_type": "code",
   "execution_count": 8,
   "id": "20df5ee6-ac3b-44bc-8a9d-a85509da8a0a",
   "metadata": {},
   "outputs": [],
   "source": [
    "# determine class probabilities\n",
    "train_size = x_train.shape[0]\n",
    "digits, counts = np.unique(x_true, return_counts=True)\n",
    "digit_probs = {d: c/train_size for d, c in zip(digits, counts)}\n",
    "assert sum(digit_probs.values()) == 1"
   ]
  },
  {
   "cell_type": "code",
   "execution_count": 9,
   "id": "9b95959e-2f2d-4e8b-bb44-1ba4497eabe8",
   "metadata": {},
   "outputs": [
    {
     "name": "stdout",
     "output_type": "stream",
     "text": [
      "p_0 = 0.10\n",
      "p_1 = 0.11\n",
      "p_2 = 0.10\n",
      "p_3 = 0.10\n",
      "p_4 = 0.10\n",
      "p_5 = 0.09\n",
      "p_6 = 0.10\n",
      "p_7 = 0.10\n",
      "p_8 = 0.10\n",
      "p_9 = 0.10\n"
     ]
    }
   ],
   "source": [
    "for k, v in digit_probs.items():\n",
    "    print(f\"p_{k} = {v:0.2f}\")"
   ]
  },
  {
   "cell_type": "code",
   "execution_count": 10,
   "id": "971e6101-ca1c-4b9b-a615-4bc77b25b392",
   "metadata": {},
   "outputs": [],
   "source": [
    "def get_gauss_params(data, labels, *, c=0):\n",
    "    g = {}\n",
    "    s_cov = c * np.eye(784)\n",
    "    for l in np.unique(labels):\n",
    "        x = data[labels == l, :]\n",
    "        m = np.mean(x, axis = 0)\n",
    "        cov = np.cov(x, rowvar=False)\n",
    "        assert m.shape[0] == cov.shape[0]\n",
    "        cov = s_cov + cov\n",
    "        g[l] = {\n",
    "            'm':   m,\n",
    "            'cov': cov\n",
    "        }\n",
    "    return g"
   ]
  },
  {
   "cell_type": "code",
   "execution_count": 11,
   "id": "355b77b1-179f-4b8f-bd0b-c4a28daa4b15",
   "metadata": {},
   "outputs": [],
   "source": [
    "def predict(data, probs, g):\n",
    "    res = np.full([data.shape[0], 10], -np.inf)\n",
    "    for d, params in g.items():\n",
    "        pdf = multivariate_normal.logpdf(data, mean=params['m'], cov=params['cov'])\n",
    "        res[:,d] = (pdf + np.log(probs[d]))\n",
    "    return np.argmax(res, axis=1), res"
   ]
  },
  {
   "cell_type": "code",
   "execution_count": 12,
   "id": "83953385-5137-4731-856b-76ceb09fe7dc",
   "metadata": {},
   "outputs": [
    {
     "name": "stdout",
     "output_type": "stream",
     "text": [
      "1148.5200896263123\n"
     ]
    }
   ],
   "source": [
    "start = time.time()\n",
    "c_range = np.linspace(0.001, 10000, num=500)\n",
    "c_acc = np.full(c_range.shape, -np.inf)\n",
    "for i, c in enumerate(c_range):\n",
    "    g = get_gauss_params(x_train, x_true, c=c)\n",
    "    pred, _ = predict(x_val, digit_probs, g)\n",
    "    acc = accuracy_score(val_true, pred)\n",
    "    c_acc[i] = acc\n",
    "end = time.time() - start\n",
    "print(end)"
   ]
  },
  {
   "cell_type": "code",
   "execution_count": 13,
   "id": "71f483aa-bbc4-429f-acb5-bc76c331cff1",
   "metadata": {},
   "outputs": [
    {
     "data": {
      "image/png": "[encoded data removed]",
      "text/plain": [
       "<Figure size 432x288 with 1 Axes>"
      ]
     },
     "metadata": {},
     "output_type": "display_data"
    }
   ],
   "source": [
    "# plotting\n",
    "fig = plt.figure()\n",
    "\n",
    "plt.plot(c_range, c_acc)\n",
    "plt.title('Smoothing Effect on Validation Accuracy')\n",
    "plt.xlabel('C values')\n",
    "plt.ylabel('Accuracy')\n",
    "fig.patch.set_facecolor('white')\n",
    "plt.tight_layout()\n",
    "plt.show()"
   ]
  },
  {
   "cell_type": "code",
   "execution_count": 14,
   "id": "cef33c8c-2e00-4d3b-a655-dd4687db69dd",
   "metadata": {},
   "outputs": [
    {
     "name": "stdout",
     "output_type": "stream",
     "text": [
      "4d: Best smoothing value, C, is 2464.93 with error rate 4.70%\n"
     ]
    }
   ],
   "source": [
    "print(f\"4d: Best smoothing value, C, is {c_range[np.argmax(c_acc)]:.2f} with error rate {(1 - np.max(c_acc))*100:.2f}%\")"
   ]
  },
  {
   "cell_type": "code",
   "execution_count": 15,
   "id": "721b2b12-88e8-40f9-9d8b-43c0746a79d0",
   "metadata": {},
   "outputs": [
    {
     "name": "stdout",
     "output_type": "stream",
     "text": [
      "4c Part 2: Mean and covariance for each digit\n",
      "Uncomment to see mean and covariance for each digit\n",
      "Size of mean and covariance matrix (the size is the same for all digits since it is the mean of pixels.\n",
      "Size of mean for digit 0: (784,)\n",
      "Size of cov for digit 0: (784, 784)\n"
     ]
    }
   ],
   "source": [
    "print(\"4c Part 2: Mean and covariance for each digit\")\n",
    "print(\"Uncomment to see mean and covariance for each digit\")\n",
    "print(\"Size of mean and covariance matrix (the size is the same for all digits since it is the mean of pixels.\")\n",
    "print(f\"Size of mean for digit 0: {g[0]['m'].shape}\")\n",
    "print(f\"Size of cov for digit 0: {g[0]['cov'].shape}\")\n",
    "# for k, v in g.items():\n",
    "#     print(f\"{k} density parameters\")\n",
    "#     print(f\"Mean: {v['m']}\")\n",
    "#     print(f\"Cov: {v['cov'].shape}\")"
   ]
  },
  {
   "cell_type": "code",
   "execution_count": 16,
   "id": "7a1bce4d-8932-47af-9179-e51911a6b25a",
   "metadata": {},
   "outputs": [],
   "source": [
    "# test_x, test_y\n",
    "g = get_gauss_params(x_train, x_true, c=c_range[np.argmax(c_acc)])\n",
    "pred_y, _ = predict(test_x, digit_probs, g)\n",
    "acc = accuracy_score(test_y, pred_y)"
   ]
  },
  {
   "cell_type": "code",
   "execution_count": 17,
   "id": "d1bd0e0c-4b61-425e-b891-51a4c5ab20f6",
   "metadata": {},
   "outputs": [],
   "source": [
    "# Pick random 5 images\n",
    "random.seed(a=0)\n",
    "rand_imgs = random.sample(np.argwhere(pred_y != test_y).tolist(), 5)"
   ]
  },
  {
   "cell_type": "code",
   "execution_count": 18,
   "id": "760954ef-0b9e-4b31-aede-72ba41c81348",
   "metadata": {},
   "outputs": [
    {
     "name": "stdout",
     "output_type": "stream",
     "text": [
      "4e: 5 random misclassified images\n",
      "Error rate for test set is 4.36%\n"
     ]
    },
    {
     "data": {
      "image/png": "[encoded data removed]",
      "text/plain": [
       "<Figure size 720x720 with 5 Axes>"
      ]
     },
     "metadata": {},
     "output_type": "display_data"
    }
   ],
   "source": [
    "print(\"4e: 5 random misclassified images\")\n",
    "print(f\"Error rate for test set is {(1 - acc) * 100:.2f}%\")\n",
    "fig = plt.figure(figsize=(10,10))\n",
    "fig.patch.set_facecolor('white')\n",
    "for i, img in enumerate(rand_imgs):\n",
    "    plt.subplot(1,5,i+1)\n",
    "    plt.title(f\"True: {int(test_y[img])} Pred: {int(pred_y[img])}\")\n",
    "    plt.imshow(np.reshape(test_x[img,:], (28,28)), cmap=plt.cm.gray)\n",
    "    plt.axis('off')\n",
    "plt.tight_layout()\n",
    "plt.show()"
   ]
  },
  {
   "cell_type": "code",
   "execution_count": 19,
   "id": "e54acef2-b79d-408c-ab53-4a0aac90c246",
   "metadata": {},
   "outputs": [],
   "source": [
    "_, post_probs = predict(test_x[rand_imgs,:], digit_probs, g)"
   ]
  },
  {
   "cell_type": "code",
   "execution_count": 20,
   "id": "a4fa3f6c-13a2-4ec0-917c-e1ea4f004406",
   "metadata": {},
   "outputs": [
    {
     "data": {
      "text/plain": [
       "(10,)"
      ]
     },
     "execution_count": 20,
     "metadata": {},
     "output_type": "execute_result"
    }
   ],
   "source": [
    "post_probs[0,:].shape"
   ]
  },
  {
   "cell_type": "code",
   "execution_count": 21,
   "id": "f9a09795-37ec-477d-a79d-db2aa676a4b4",
   "metadata": {},
   "outputs": [
    {
     "data": {
      "text/plain": [
       "[0, 1, 2, 3, 4, 5, 6, 7, 8, 9]"
      ]
     },
     "execution_count": 21,
     "metadata": {},
     "output_type": "execute_result"
    }
   ],
   "source": [
    "list(range(0,10))"
   ]
  },
  {
   "cell_type": "code",
   "execution_count": 22,
   "id": "40643011-8f83-4c74-b273-ab0ba31b2bde",
   "metadata": {},
   "outputs": [
    {
     "name": "stdout",
     "output_type": "stream",
     "text": [
      "4e: Proabilities for each image\n",
      "Image: 0\n",
      "\tTrue: 3 Pred: 9\n",
      "\t\t0: -4118.78\n",
      "\t\t1: -4148.81\n",
      "\t\t2: -4066.97\n",
      "\t\t3: -4030.09\n",
      "\t\t4: -4022.89\n",
      "\t\t5: -4077.09\n",
      "\t\t6: -4138.78\n",
      "\t\t7: -3990.91\n",
      "\t\t8: -4000.31\n",
      "\t\t9: -3983.39\n",
      "Image: 1\n",
      "\tTrue: 6 Pred: 8\n",
      "\t\t0: -4076.32\n",
      "\t\t1: -4041.44\n",
      "\t\t2: -4045.41\n",
      "\t\t3: -4024.00\n",
      "\t\t4: -4039.66\n",
      "\t\t5: -4002.96\n",
      "\t\t6: -4018.71\n",
      "\t\t7: -4092.40\n",
      "\t\t8: -3982.49\n",
      "\t\t9: -4038.53\n",
      "Image: 2\n",
      "\tTrue: 5 Pred: 8\n",
      "\t\t0: -4051.66\n",
      "\t\t1: -4172.90\n",
      "\t\t2: -4075.56\n",
      "\t\t3: -3999.69\n",
      "\t\t4: -4023.58\n",
      "\t\t5: -3986.52\n",
      "\t\t6: -4043.88\n",
      "\t\t7: -4061.81\n",
      "\t\t8: -3983.29\n",
      "\t\t9: -3992.16\n",
      "Image: 3\n",
      "\tTrue: 8 Pred: 9\n",
      "\t\t0: -4134.21\n",
      "\t\t1: -4305.06\n",
      "\t\t2: -4100.83\n",
      "\t\t3: -4029.59\n",
      "\t\t4: -4037.04\n",
      "\t\t5: -4074.33\n",
      "\t\t6: -4287.62\n",
      "\t\t7: -4009.46\n",
      "\t\t8: -4001.61\n",
      "\t\t9: -3975.83\n",
      "Image: 4\n",
      "\tTrue: 6 Pred: 0\n",
      "\t\t0: -4016.95\n",
      "\t\t1: -4505.04\n",
      "\t\t2: -4129.17\n",
      "\t\t3: -4161.79\n",
      "\t\t4: -4127.97\n",
      "\t\t5: -4081.89\n",
      "\t\t6: -4024.14\n",
      "\t\t7: -4146.18\n",
      "\t\t8: -4168.95\n",
      "\t\t9: -4127.04\n"
     ]
    }
   ],
   "source": [
    "print(\"4e: Proabilities for each image\")\n",
    "for i, img in enumerate(rand_imgs):\n",
    "    print(f\"Image: {i}\")\n",
    "    print(f\"\\tTrue: {int(test_y[img])} Pred: {int(pred_y[img])}\")\n",
    "    for d, p in zip(range(0,10), post_probs[i,:]):\n",
    "        print(f\"\\t\\t{d}: {p:.2f}\")"
   ]
  },
  {
   "cell_type": "markdown",
   "id": "fc92a209-5640-435d-9e28-6010e28de7f2",
   "metadata": {},
   "source": [
    "# WS 10 Q2"
   ]
  },
  {
   "cell_type": "code",
   "execution_count": 23,
   "id": "13a629eb-4d7a-45ac-a0a1-8f1521edb756",
   "metadata": {},
   "outputs": [],
   "source": [
    "import pprint\n",
    "\n",
    "import numpy as np\n",
    "\n",
    "from sklearn.cluster import KMeans\n",
    "from scipy.cluster.hierarchy import dendrogram, linkage\n",
    "import matplotlib.pyplot as plt"
   ]
  },
  {
   "cell_type": "code",
   "execution_count": 24,
   "id": "205828d3-4193-4dc2-9cd5-100f39656cc0",
   "metadata": {},
   "outputs": [],
   "source": [
    "# Read in attribute matrix for clustering\n",
    "data = np.full([50, 85], np.nan)\n",
    "with open('./predicate-matrix-continuous.txt') as f:\n",
    "    for i,l in enumerate(f):\n",
    "        data[i,:] = np.array(str.split(l)) # strip used to handle uneven number of spaces on each line\n",
    "assert not np.isnan(data).any(), f\"reading in data matrix failed, NaNs still present\"\n",
    "assert data.dtype == 'float64', f\"Failed to get right type\""
   ]
  },
  {
   "cell_type": "code",
   "execution_count": 25,
   "id": "6c36558c-692e-4682-b155-37c261261c2a",
   "metadata": {},
   "outputs": [],
   "source": [
    "animals = []\n",
    "with open('./classes.txt') as f:\n",
    "    for i,l in enumerate(f):\n",
    "        animals.append(str.split(l)[-1])\n",
    "a = np.asarray(animals)"
   ]
  },
  {
   "cell_type": "code",
   "execution_count": 26,
   "id": "99359e3a-7e92-4c05-9d6f-051ed11dff05",
   "metadata": {},
   "outputs": [],
   "source": [
    "# run kmeans\n",
    "kmeans = KMeans(n_clusters=10, random_state=0)\n",
    "pred = kmeans.fit_predict(data)"
   ]
  },
  {
   "cell_type": "code",
   "execution_count": 27,
   "id": "9b9be67d-1083-4c21-8e7f-f23795898aa7",
   "metadata": {},
   "outputs": [
    {
     "name": "stdout",
     "output_type": "stream",
     "text": [
      "2a: The animal clusters are listed below.\n",
      "{   0: ['antelope', 'horse', 'moose', 'giraffe', 'zebra', 'deer'],\n",
      "    1: ['tiger', 'leopard', 'fox', 'wolf', 'weasel', 'bobcat', 'lion'],\n",
      "    2: ['killer+whale', 'blue+whale', 'humpback+whale', 'walrus', 'dolphin'],\n",
      "    3: [   'skunk',\n",
      "           'mole',\n",
      "           'hamster',\n",
      "           'squirrel',\n",
      "           'rabbit',\n",
      "           'rat',\n",
      "           'mouse',\n",
      "           'raccoon'],\n",
      "    4: [   'dalmatian',\n",
      "           'persian+cat',\n",
      "           'german+shepherd',\n",
      "           'siamese+cat',\n",
      "           'chihuahua',\n",
      "           'collie'],\n",
      "    5: [   'hippopotamus',\n",
      "           'elephant',\n",
      "           'ox',\n",
      "           'sheep',\n",
      "           'rhinoceros',\n",
      "           'buffalo',\n",
      "           'giant+panda',\n",
      "           'pig',\n",
      "           'cow'],\n",
      "    6: ['spider+monkey', 'gorilla', 'chimpanzee'],\n",
      "    7: ['bat'],\n",
      "    8: ['beaver', 'seal', 'otter'],\n",
      "    9: ['grizzly+bear', 'polar+bear']}\n"
     ]
    }
   ],
   "source": [
    "k_res = {k: a[np.where(pred == k)].tolist() for k in range(10)}\n",
    "\n",
    "print(\"2a: The animal clusters are listed below.\")\n",
    "pp = pprint.PrettyPrinter(indent=4)\n",
    "pp.pprint(k_res)"
   ]
  },
  {
   "cell_type": "markdown",
   "id": "b08836fc-61b1-424d-b509-274089270f4f",
   "metadata": {},
   "source": [
    "Overall, the clustering solution is farily reasonable. There are some oddities such as seal being grouped with beaver and otter instead of with walrus as well as small cats and small dogs being mixed together. It would make more sense if there was a cluster that captured big and small cats and another cluster that captures small dogs with foxes and wolves. However, with very little code involved, the resulting clusters are pretty reasonable for the most part."
   ]
  },
  {
   "cell_type": "code",
   "execution_count": 28,
   "id": "8ff4798a-e27b-4e4a-90cb-446f85230b71",
   "metadata": {},
   "outputs": [],
   "source": [
    "tree = linkage(data, 'ward')"
   ]
  },
  {
   "cell_type": "code",
   "execution_count": 29,
   "id": "31efd62a-0ed0-4f81-80ca-6266d77778c2",
   "metadata": {},
   "outputs": [
    {
     "data": {
      "image/png": "[encoded data removed]",
      "text/plain": [
       "<Figure size 1080x1080 with 1 Axes>"
      ]
     },
     "metadata": {},
     "output_type": "display_data"
    }
   ],
   "source": [
    "fig = plt.figure(figsize=(15,15))\n",
    "dn = dendrogram(tree, labels=a, leaf_font_size=12,orientation='right')\n",
    "fig.patch.set_facecolor('white')\n",
    "plt.tight_layout()"
   ]
  },
  {
   "cell_type": "markdown",
   "id": "d7899473-5761-48b2-9ed5-5c0108b40f23",
   "metadata": {},
   "source": [
    "The Tree seems reasonable. It groups all the aquatic animals into a representitive group. Bigger cats are related to one another while smalelr cats are related to each other. However, smaller cats are more closely related to bigger cats than to small dogs, which the tree fails to captue. The same occurs with fox and wolf being closer to bigger cats than the smaller dogs. So while the tree does a fairly good job assessing relationships between animals, it is far from perfect."
   ]
  }
 ],
 "metadata": {
  "kernelspec": {
   "display_name": "Python 3 (ipykernel)",
   "language": "python",
   "name": "python3"
  },
  "language_info": {
   "codemirror_mode": {
    "name": "ipython",
    "version": 3
   },
   "file_extension": ".py",
   "mimetype": "text/x-python",
   "name": "python",
   "nbconvert_exporter": "python",
   "pygments_lexer": "ipython3",
   "version": "3.10.2"
  }
 },
 "nbformat": 4,
 "nbformat_minor": 5
}
