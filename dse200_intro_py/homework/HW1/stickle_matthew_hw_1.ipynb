{
 "cells": [
  {
   "cell_type": "markdown",
   "metadata": {},
   "source": [
    "# MAS DSE 200: Homework 1 - Python and NumPy\n",
    "\n",
    "#### Tasks: \n",
    "\n",
    "- Introduction to Python and NumPy.  \n",
    "  \n",
    "- Submission on Gradescope:\n",
    "  - Submit this Jupyter notebook to \"Homework 1\"\n",
    "\n",
    "#### Due date: Monday 10/4/2021 at 11:59 PM PST\n",
    "\n",
    "---\n",
    "\n",
    "Remember: when in doubt, read the documentation first.\n",
    "\n",
    "Python - https://docs.python.org/3/\n",
    "\n",
    "NumPy - https://numpy.org/doc/stable/"
   ]
  },
  {
   "cell_type": "markdown",
   "metadata": {},
   "source": [
    "## Instructions\n",
    "\n",
    "* You don’t need to explain your approach (unless specified) so please be concise in your submission. \n",
    "* To obtain full marks for a question, both the answer and the code should be correct. \n",
    "* Completely wrong (or missing) code with correct answer will result in zero marks. \n",
    "* Please code the solution in the space provided."
   ]
  },
  {
   "cell_type": "markdown",
   "metadata": {},
   "source": [
    "# Author: Matthew Stickle"
   ]
  },
  {
   "cell_type": "markdown",
   "metadata": {},
   "source": [
    "## Part 1 - Python basics"
   ]
  },
  {
   "cell_type": "markdown",
   "metadata": {},
   "source": [
    "### 1.  Write a program to swap a float and an int variable and print their data types to verify the swapping operation\n",
    "\n",
    "* Initialize 2 variables my_int = 5 , and my_float = 1.5\n",
    "* Swap these variables such that my_int now holds the value of my_float and vice versa\n",
    "* Verify this by printing their data types "
   ]
  },
  {
   "cell_type": "code",
   "execution_count": 9,
   "metadata": {},
   "outputs": [
    {
     "name": "stdout",
     "output_type": "stream",
     "text": [
      "Value of my_int = 5\n",
      "Data type of my_int = <class 'int'>\n",
      "Value of my_float = 1.5\n",
      "Data type of my_float = <class 'float'>\n",
      "Value of my_int = 1.5\n",
      "Data type of my_int = <class 'float'>\n",
      "Value of my_float = 5\n",
      "Data type of my_float = <class 'int'>\n"
     ]
    }
   ],
   "source": [
    "# COMPLETE THE CELL BELOW \n",
    "\n",
    "my_int = 5\n",
    "my_float = 1.5\n",
    "\n",
    "print(f\"Value of my_int = {my_int}\")\n",
    "print(f\"Data type of my_int = {type(my_int)}\")\n",
    "print(f\"Value of my_float = {my_float}\")\n",
    "print(f\"Data type of my_float = {type(my_float)}\")\n",
    "\n",
    "# Swap the variables\n",
    "temp = my_int\n",
    "my_int = my_float\n",
    "my_float = temp\n",
    "\n",
    "print(f\"Value of my_int = {my_int}\")\n",
    "print(f\"Data type of my_int = {type(my_int)}\")\n",
    "print(f\"Value of my_float = {my_float}\")\n",
    "print(f\"Data type of my_float = {type(my_float)}\")"
   ]
  },
  {
   "cell_type": "markdown",
   "metadata": {},
   "source": [
    "### 2. Write a Python Program to Calculate the area and perimeter of a circle of radius `r`\n",
    "\n",
    " $area = \\pi r^2$\n",
    " \n",
    " $perimter = 2 \\pi r$\n",
    " \n",
    " Hint - Use `math.pi` to get the value of $\\pi$"
   ]
  },
  {
   "cell_type": "code",
   "execution_count": 10,
   "metadata": {},
   "outputs": [
    {
     "name": "stdin",
     "output_type": "stream",
     "text": [
      "Enter radius 2\n"
     ]
    },
    {
     "name": "stdout",
     "output_type": "stream",
     "text": [
      "The area of the circle is 12.57\n",
      "The perimeter of the circle is 12.57\n"
     ]
    }
   ],
   "source": [
    "# COMPLETE THE CELL BELOW \n",
    "\n",
    "import math\n",
    "\n",
    "def calc_area(r):\n",
    "    return math.pi * r * r\n",
    "\n",
    "def calc_perimeter(r):\n",
    "    return 2 * math.pi * r\n",
    "\n",
    "def str_to_numeric(a: str):\n",
    "    if '.' in a:\n",
    "        return float(a)\n",
    "    else:\n",
    "        return int(a)\n",
    "\n",
    "r = input(\"Enter radius\")\n",
    "r = str_to_numeric(r)\n",
    "assert r > 0, f\"Must be a valid radius. Cannot calculate area and permiter with r = {r}.\"\n",
    "\n",
    "area = calc_area(r)\n",
    "perimeter = calc_perimeter(r)\n",
    "\n",
    "print('The area of the circle is %0.2f' % area)\n",
    "print('The perimeter of the circle is %0.2f' % perimeter)"
   ]
  },
  {
   "cell_type": "markdown",
   "metadata": {},
   "source": [
    "### 3.1 Write a Python function to Check if a Number is divisible by 3\n",
    "\n",
    "* Complete the function block\n",
    "* Initialize a variable `num`\n",
    "* Pass the `num` variable to `is_divisible_by_3` function. Print if the number is divisible by 3\n",
    "* Hint - A number is divisible by 3 if the sum of the digits is divisible by 3. Implement this check"
   ]
  },
  {
   "cell_type": "code",
   "execution_count": 13,
   "metadata": {},
   "outputs": [
    {
     "name": "stdin",
     "output_type": "stream",
     "text": [
      "Enter number 13639452\n"
     ]
    },
    {
     "name": "stdout",
     "output_type": "stream",
     "text": [
      "13639452 divisible by 3? True\n"
     ]
    }
   ],
   "source": [
    "# COMPLETE CELL BELOW\n",
    "\n",
    "def is_divisible_by_3(n):\n",
    "    tot = sum([int(c) for c in str(n)])\n",
    "    return True if tot % 3 == 0 else False\n",
    "    \n",
    "num = input(\"Enter number\")\n",
    "num = str_to_numeric(num)\n",
    "if isinstance(num, float):\n",
    "    # Round float to int before checking if divisible by 3\n",
    "    num = int(round(num))\n",
    "a = is_divisible_by_3(num)\n",
    "assert a == (num % 3 == 0), f\"is_divisible_by_3 gave {a} for {num}.\"\n",
    "print(f\"{num} divisible by 3? {str(a)}\")"
   ]
  },
  {
   "cell_type": "markdown",
   "metadata": {},
   "source": [
    "### 3.2. Write a Python function to Check if a Number is divisible by 2\n",
    "\n",
    "* Complete the function block\n",
    "* Initialize a variable `num`\n",
    "* Pass the `num` variable to `is_divisible_by_2` function. Print if the number is divisible by 2"
   ]
  },
  {
   "cell_type": "code",
   "execution_count": 30,
   "metadata": {},
   "outputs": [
    {
     "name": "stdin",
     "output_type": "stream",
     "text": [
      "Enter number 65\n"
     ]
    },
    {
     "name": "stdout",
     "output_type": "stream",
     "text": [
      "65 divisible by 2? False\n"
     ]
    }
   ],
   "source": [
    "# COMPLETE CELL BELOW\n",
    "\n",
    "def is_divisible_by_2(n):\n",
    "    # Complete this function\n",
    "    return True if n % 2 == 0 else False\n",
    "\n",
    "# Check if the number is divisible by 2\n",
    "num = input(\"Enter number\")\n",
    "num = str_to_numeric(num)\n",
    "\n",
    "# Check if the number is divisible by 2\n",
    "print(f\"{num} divisible by 2? {is_divisible_by_2(num)}\")"
   ]
  },
  {
   "cell_type": "markdown",
   "metadata": {},
   "source": [
    "### 3.3. Write a Python function to Check if a Number is divisible by 6\n",
    "\n",
    "* Complete the function block\n",
    "* Initialize a variable `num`\n",
    "* Pass the `num` variable to `is_divisible_by_6` function. Print if the number is divisible by 6\n",
    "* Hint - A number is divisible by 6 if it is divisible by both 2 and 3. Use the previously defined functions to check for this."
   ]
  },
  {
   "cell_type": "code",
   "execution_count": 31,
   "metadata": {},
   "outputs": [
    {
     "name": "stdin",
     "output_type": "stream",
     "text": [
      "Enter number 64\n"
     ]
    },
    {
     "name": "stdout",
     "output_type": "stream",
     "text": [
      "64 divisible by 6? False\n"
     ]
    }
   ],
   "source": [
    "# COMPLETE CELL BELOW\n",
    "def is_divisible_by_6(n):\n",
    "    # Complete this function\n",
    "    return is_divisible_by_2(n) and is_divisible_by_3(n)\n",
    "\n",
    "# Check if the number is divisible by 6\n",
    "num = input(\"Enter number\")\n",
    "num = str_to_numeric(num)\n",
    "\n",
    "# Check if the number is divisible by 6\n",
    "print(f\"{num} divisible by 6? {is_divisible_by_6(num)}\")"
   ]
  },
  {
   "cell_type": "markdown",
   "metadata": {},
   "source": [
    "### 4. Write a Python Program to Check if a number has exactly 3 digits(no zeros allowed at the beginning)\n",
    "\n",
    "* Initialize a variable `num`\n",
    "* Check and print if the number has 3 digits(no zeros allowed at the beginning)"
   ]
  },
  {
   "cell_type": "code",
   "execution_count": 14,
   "metadata": {},
   "outputs": [
    {
     "name": "stdin",
     "output_type": "stream",
     "text": [
      "Enter number 123\n"
     ]
    },
    {
     "name": "stdout",
     "output_type": "stream",
     "text": [
      "123 has exactly 3 digits? True\n"
     ]
    }
   ],
   "source": [
    "# COMPLETE THE CELL BELOW \n",
    "def count_digits(num: str):\n",
    "    '''\n",
    "    1. convert string number to int/float to check if valid number\n",
    "    2. Check first index of number to make sure 0 is not at the start\n",
    "    3. Count all instance of a digit: set(0123456789)\n",
    "    Note: Accept floats to be checked since digit definition does not exclude a float\n",
    "    the only requirement is that the number does not start with a 0\n",
    "    '''\n",
    "    digits = set('0123456789')\n",
    "    num = str_to_numeric(num) # convert to str or float to make sure number is valid\n",
    "    num = str(num)\n",
    "    if num[0] == '0':\n",
    "        raise ValueError(f\"{num} not allowed to start with a 0\")\n",
    "    tot = len([int(c) for c in num if c in digits])\n",
    "    return True if tot == 3 else False\n",
    "\n",
    "num = input(\"Enter number\")\n",
    "\n",
    "print(f\"{num} has exactly 3 digits? {count_digits(num)}\")\n",
    "\n",
    "# Check if the number has exactly 3 digits"
   ]
  },
  {
   "cell_type": "markdown",
   "metadata": {},
   "source": [
    "### 5. Write a Python Program to Check Whether a string is palindrome or not\n",
    "\n",
    "* Initialize a string\n",
    "* Lower case it to allow easy comparison - Use `my_str.lower()`\n",
    "* Check using if-else statements if the string is a palindrome \n",
    "* A palindrome is a string which is same read forward or backwards.\n",
    "* Alternatively, use the [`extended slice`](https://docs.python.org/3/whatsnew/2.3.html#extended-slices) syntax to reverse a string and check for palindrome"
   ]
  },
  {
   "cell_type": "code",
   "execution_count": 6,
   "metadata": {},
   "outputs": [
    {
     "name": "stdout",
     "output_type": "stream",
     "text": [
      "aIbohPhoBiA is a palindrome: True\n"
     ]
    }
   ],
   "source": [
    "# COMPLETE CELL BELOW \n",
    "\n",
    "def is_palindrome(my_str: str):\n",
    "    return my_str.lower() == my_str.lower()[::-1]\n",
    "\n",
    "my_str = 'aIbohPhoBiA' # change this value for a different output\n",
    "print(f\"{my_str} is a palindrome: {is_palindrome(my_str)}\")\n",
    "\n",
    "my_str = 'aIbohPhoBiA'\n",
    "assert is_palindrome(my_str[:-2]) == False # Assert that slice of aibohphobia is not a palindrome\n",
    "assert is_palindrome('RaceCar') == True # Assert that racecar is a palindrome"
   ]
  },
  {
   "cell_type": "markdown",
   "metadata": {},
   "source": [
    "### 6.  Print numbers divisible by 5 between 4 and 30, inclusive\n",
    "\n",
    "* One optimization would be to only generate numbers that are multiples of 5"
   ]
  },
  {
   "cell_type": "code",
   "execution_count": 1,
   "metadata": {},
   "outputs": [
    {
     "name": "stdout",
     "output_type": "stream",
     "text": [
      "5 is divisible by 5\n",
      "10 is divisible by 5\n",
      "15 is divisible by 5\n",
      "20 is divisible by 5\n",
      "25 is divisible by 5\n",
      "30 is divisible by 5\n"
     ]
    }
   ],
   "source": [
    "# COMPLETE THE CELL BELOW \n",
    "\n",
    "limit = range(4,31)\n",
    "for number in limit: # Complete the loop\n",
    "    if number % 5 == 0:\n",
    "        print(f\"{number} is divisible by 5\")\n",
    "    "
   ]
  },
  {
   "cell_type": "markdown",
   "metadata": {},
   "source": [
    "### 7. Write a Python Program to print the first n numbers of the Fibonacci series\n",
    "\n",
    "* Initialize a variable n that denotes the number of elements of the Fibonacci series to be computed\n",
    "* Use a loop to print the first n numbers of the Fibonacci series \n",
    "* Fibonacci series is a recursive series where the `n-th` number in the series is a sum of `n-1`th and `n-2`th element in the series, starting from 0 and 1 "
   ]
  },
  {
   "cell_type": "code",
   "execution_count": 3,
   "metadata": {},
   "outputs": [
    {
     "name": "stdout",
     "output_type": "stream",
     "text": [
      "First n numbers of fibonacci series are: [0, 1, 1, 2, 3]\n"
     ]
    }
   ],
   "source": [
    "# COMPLETE CELL BELOW\n",
    "def calc_fib(n: int) -> list:\n",
    "    '''\n",
    "    Calculates first n values of the fibonacci series\n",
    "    Counts 0 and 1 as the first two numbers in series\n",
    "    '''\n",
    "    i = 2\n",
    "    fib = [0, 1]\n",
    "    while i < n:\n",
    "        a = fib[-1] + fib[-2]\n",
    "        fib.append(a)\n",
    "        i = i + 1\n",
    "    return fib\n",
    "\n",
    "n = 5\n",
    "print(f\"First n numbers of fibonacci series are: {calc_fib(n)}\")\n",
    "\n",
    "# Test case: assert calc_fib calculates 50th value correctly\n",
    "n = 50\n",
    "a = calc_fib(n)\n",
    "assert a[-1] == 7778742049, f\"Expected 7778742049, found {a[-1]}\""
   ]
  },
  {
   "cell_type": "markdown",
   "metadata": {},
   "source": [
    "### 8. Write a Python Program that defines a function to Remove consonants From a String\n",
    "\n",
    "* You can initialize a string of your choice \n",
    "* Define the function \n",
    "* Use a for loop to remove consonants(any letter other than a,e,i,o,u)"
   ]
  },
  {
   "cell_type": "code",
   "execution_count": 14,
   "metadata": {},
   "outputs": [
    {
     "name": "stdout",
     "output_type": "stream",
     "text": [
      "eo, o ae ou?. i oe ou ae oi e.\n"
     ]
    }
   ],
   "source": [
    "# COMPLETE THE CELL BELOW \n",
    "\n",
    "def removeConsonants(s:str) -> str: # Complete the function\n",
    "    consonants = set('bcdfghjklmnpqrstvwxyz')\n",
    "    s = s.lower()\n",
    "    return \"\".join([l for l in s if l not in consonants])\n",
    "\n",
    "my_str = \"Hello, how are you?. I hope you are doing well.\"\n",
    "\n",
    "print(removeConsonants(my_str))"
   ]
  },
  {
   "cell_type": "markdown",
   "metadata": {},
   "source": [
    "### 9. Define a function that takes two numbers as arguments and returns the sum of all numbers between the arguments passed (exclusive)\n",
    "\n",
    "* You can define a range of your choice\n",
    "* Define the function \n",
    "* Use a for loop to add numbers within the range(exclusive)\n",
    "* Hint - You can also use the formula $1 + 2 + ... + n = \\frac{n(n + 1)}{2}$"
   ]
  },
  {
   "cell_type": "code",
   "execution_count": 27,
   "metadata": {},
   "outputs": [
    {
     "name": "stdout",
     "output_type": "stream",
     "text": [
      "Result is 30\n",
      "30.0\n"
     ]
    }
   ],
   "source": [
    "# COMPLETE THE CELL BELOW \n",
    "\n",
    "def sumRange(a, b): # Complete the function using a for loop and range\n",
    "    sum = 0\n",
    "    for num in range(a+1,b):\n",
    "        sum = sum + num\n",
    "    return sum\n",
    "\n",
    "def hint(a,b):\n",
    "    return (((b - 1) * b) / 2) - ((a * (a + 1)) / 2)\n",
    "\n",
    "    \n",
    "a = 5\n",
    "b = 10\n",
    "total = sumRange(a, b)\n",
    "print(\"Result is\", total)\n",
    "print(hint(a,b))"
   ]
  },
  {
   "cell_type": "markdown",
   "metadata": {},
   "source": [
    "### 10. Define a class named Triangle that can defines the methods `area` and `perimeter`\n",
    "\n",
    "* The class can be constructed by the length of the sides. Hint - As arguments of `__init__`\n",
    "* $area = \\sqrt{(s(s-a)(s-b)(s-c)}$ where $s=\\frac{(a+b+c)}{2}$ is the semi-perimeter\n",
    "* $perimeter = a +  b + c$\n",
    "* **Optional** - If there are repeated calls to the `area` and the `perimeter` functions, how would you optimize the code?"
   ]
  },
  {
   "cell_type": "code",
   "execution_count": 16,
   "metadata": {},
   "outputs": [
    {
     "name": "stdout",
     "output_type": "stream",
     "text": [
      "perimeter: 12.00 area: 6.00\n"
     ]
    }
   ],
   "source": [
    "# COMPLETE CELL BELOW\n",
    "import math\n",
    "\n",
    "class Triangle:\n",
    "    def __init__(self, a, b, c):\n",
    "        self.a = a\n",
    "        self.b = b\n",
    "        self.c = c\n",
    "    \n",
    "    def perimeter(self):\n",
    "        return self.a + self.b + self.c\n",
    "    \n",
    "    def area(self):\n",
    "        s = self.perimeter() / 2\n",
    "        return math.sqrt(s * (s - self.a) * (s - self.b) * (s - self.c))\n",
    "    \n",
    "tri = Triangle(3, 4, 5)\n",
    "print(f\"perimeter: {tri.perimeter():.2f} area: {tri.area():.2f}\")"
   ]
  },
  {
   "cell_type": "markdown",
   "metadata": {},
   "source": [
    "## Part 2 - NumPy"
   ]
  },
  {
   "cell_type": "code",
   "execution_count": 23,
   "metadata": {},
   "outputs": [],
   "source": [
    "import numpy as np"
   ]
  },
  {
   "cell_type": "markdown",
   "metadata": {},
   "source": [
    "### 11. Random array\n",
    "\n",
    "Generate an integer random numpy array, A, of shape (6,6) with elements from 12 to 22(inclusive). Print the generated random array. (Hint: Look at the documentation of `numpy.random.randint`)"
   ]
  },
  {
   "cell_type": "code",
   "execution_count": 24,
   "metadata": {},
   "outputs": [
    {
     "name": "stdout",
     "output_type": "stream",
     "text": [
      "[[17 22 13 12 17 14]\n",
      " [19 12 20 19 12 18]\n",
      " [19 20 15 15 15 21]\n",
      " [17 20 21 14 12 13]\n",
      " [16 20 12 14 14 22]\n",
      " [21 13 22 21 13 20]]\n"
     ]
    }
   ],
   "source": [
    "A = np.random.randint(low=12, high=23, size=[6,6])\n",
    "print(A)"
   ]
  },
  {
   "cell_type": "markdown",
   "metadata": {},
   "source": [
    "### 12. Transpose and inverse of the array `A` \n",
    "\n",
    "Print the transpose and inverse of A."
   ]
  },
  {
   "cell_type": "code",
   "execution_count": 25,
   "metadata": {},
   "outputs": [
    {
     "name": "stdout",
     "output_type": "stream",
     "text": [
      "Transpose:\n",
      "[[17 19 19 17 16 21]\n",
      " [22 12 20 20 20 13]\n",
      " [13 20 15 21 12 22]\n",
      " [12 19 15 14 14 21]\n",
      " [17 12 15 12 14 13]\n",
      " [14 18 21 13 22 20]]\n",
      "Inverse:\n",
      "[[ 1.42250531e-01 -4.72399151e+00  2.29299363e-01 -2.76008493e-02\n",
      "  -2.72823779e-01  4.22929936e+00]\n",
      " [ 1.88959660e-01 -3.97664544e+00 -4.26751592e-01  9.76645435e-02\n",
      "   2.34607219e-01  3.57324841e+00]\n",
      " [-3.31917905e-01  5.68931352e+00  4.64968153e-01  6.44019816e-02\n",
      "  -1.96744515e-01 -5.20169851e+00]\n",
      " [ 4.57891012e-01 -6.67374381e+00 -1.08280255e+00  7.07714084e-04\n",
      "   5.19815994e-01  6.25053079e+00]\n",
      " [-1.67728238e-01  7.31634820e+00  4.01273885e-01 -1.31634820e-01\n",
      "  -1.85774947e-01 -6.59872611e+00]\n",
      " [-2.78839349e-01  3.53857042e+00  4.01273885e-01 -2.05237084e-02\n",
      "  -7.46638358e-02 -3.26539278e+00]]\n"
     ]
    }
   ],
   "source": [
    "print(f\"Transpose:\\n{A.T}\")\n",
    "print(f\"Inverse:\\n{np.linalg.inv(A)}\")"
   ]
  },
  {
   "cell_type": "markdown",
   "metadata": {},
   "source": [
    "### 13. Array slicing\n",
    "1. Print the first 3 rows of A."
   ]
  },
  {
   "cell_type": "code",
   "execution_count": 26,
   "metadata": {},
   "outputs": [
    {
     "name": "stdout",
     "output_type": "stream",
     "text": [
      "[[17 22 13 12 17 14]\n",
      " [19 12 20 19 12 18]\n",
      " [19 20 15 15 15 21]]\n"
     ]
    }
   ],
   "source": [
    "print(A[:3,:])"
   ]
  },
  {
   "cell_type": "markdown",
   "metadata": {},
   "source": [
    "2. Print the first 3 columns of A."
   ]
  },
  {
   "cell_type": "code",
   "execution_count": 27,
   "metadata": {},
   "outputs": [
    {
     "name": "stdout",
     "output_type": "stream",
     "text": [
      "[[17 22 13]\n",
      " [19 12 20]\n",
      " [19 20 15]\n",
      " [17 20 21]\n",
      " [16 20 12]\n",
      " [21 13 22]]\n"
     ]
    }
   ],
   "source": [
    "print(A[:,:3])"
   ]
  },
  {
   "cell_type": "markdown",
   "metadata": {},
   "source": [
    "### 14. Broadcasting\n",
    "\n",
    "Add this vector `B=[1,2,3,4,5,6]` to all the rows of `A`. (Hint: Use broadcasting)"
   ]
  },
  {
   "cell_type": "code",
   "execution_count": 28,
   "metadata": {},
   "outputs": [
    {
     "name": "stdout",
     "output_type": "stream",
     "text": [
      "[[18 24 16 16 22 20]\n",
      " [20 14 23 23 17 24]\n",
      " [20 22 18 19 20 27]\n",
      " [18 22 24 18 17 19]\n",
      " [17 22 15 18 19 28]\n",
      " [22 15 25 25 18 26]]\n"
     ]
    }
   ],
   "source": [
    "B = np.arange(1,7)\n",
    "print(A + B)"
   ]
  },
  {
   "cell_type": "markdown",
   "metadata": {},
   "source": [
    "### 15. Reshaping\n",
    "\n",
    "Add this vector `B=[1,2,3,4,5,6]` to all the columns of `A`. (Hint: Use np.reshape and broadcasting)"
   ]
  },
  {
   "cell_type": "code",
   "execution_count": 29,
   "metadata": {},
   "outputs": [
    {
     "name": "stdout",
     "output_type": "stream",
     "text": [
      "[[18 23 14 13 18 15]\n",
      " [21 14 22 21 14 20]\n",
      " [22 23 18 18 18 24]\n",
      " [21 24 25 18 16 17]\n",
      " [21 25 17 19 19 27]\n",
      " [27 19 28 27 19 26]]\n"
     ]
    }
   ],
   "source": [
    "B = np.reshape(B, [B.shape[0],1])\n",
    "print(A + B)"
   ]
  },
  {
   "cell_type": "code",
   "execution_count": null,
   "metadata": {},
   "outputs": [],
   "source": []
  }
 ],
 "metadata": {
  "kernelspec": {
   "display_name": "Python 3 (ipykernel)",
   "language": "python",
   "name": "python3"
  },
  "language_info": {
   "codemirror_mode": {
    "name": "ipython",
    "version": 3
   },
   "file_extension": ".py",
   "mimetype": "text/x-python",
   "name": "python",
   "nbconvert_exporter": "python",
   "pygments_lexer": "ipython3",
   "version": "3.9.7"
  }
 },
 "nbformat": 4,
 "nbformat_minor": 4
}
