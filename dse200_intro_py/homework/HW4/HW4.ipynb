{
 "cells": [
  {
   "cell_type": "markdown",
   "id": "5dc41394-2fbb-4030-8a0d-23bb3ddf3282",
   "metadata": {},
   "source": [
    "# MAS DSE 200: Homework 4 - Regression and Clustering\n",
    "\n",
    "#### Tasks: \n",
    "\n",
    "- Linear Regression on Boston Housing dataset\n",
    "- Clustering on Weather dataset\n",
    "  \n",
    "- Submission on Gradescope:\n",
    "  - Submit this Jupyter notebook to \"Homework 4\"\n",
    "\n",
    "#### Due date: Monday 11/15/2021 at 11:59 PM PST\n",
    "\n",
    "---\n",
    "\n",
    "Remember: when in doubt, read the documentation first.\n",
    "\n",
    "Python - https://docs.python.org/3/\n",
    "\n",
    "NumPy - https://numpy.org/doc/stable/\n",
    "\n",
    "pandas - https://pandas.pydata.org/docs/\n",
    "\n",
    "matplotlib - https://matplotlib.org/stable/contents.html\n",
    "\n",
    "scikit-learn - https://scikit-learn.org/stable/modules/classes.html"
   ]
  },
  {
   "cell_type": "markdown",
   "id": "6a0aafc9-98f0-46bc-8270-6b029c603164",
   "metadata": {},
   "source": [
    "# Author: Matthew Stickle"
   ]
  },
  {
   "cell_type": "code",
   "execution_count": 1,
   "id": "2b016011-087c-45ea-a371-1299a51b1e43",
   "metadata": {},
   "outputs": [],
   "source": [
    "seed = 42"
   ]
  },
  {
   "cell_type": "markdown",
   "id": "ced0f325-8ef8-47fd-a043-28db90fbdfd9",
   "metadata": {},
   "source": [
    "### Import libraries/functions"
   ]
  },
  {
   "cell_type": "code",
   "execution_count": 2,
   "id": "a152dc4e-af55-4b2e-a0f4-7016cbb6726b",
   "metadata": {},
   "outputs": [],
   "source": [
    "import time\n",
    "import pandas as pd\n",
    "import numpy as np\n",
    "\n",
    "%matplotlib inline\n",
    "import matplotlib.pyplot as plt\n",
    "\n",
    "from sklearn.model_selection import train_test_split\n",
    "from sklearn.preprocessing import StandardScaler\n",
    "from sklearn.linear_model import LinearRegression, ElasticNet\n",
    "from sklearn.metrics import mean_squared_error, r2_score\n",
    "from sklearn.cluster import KMeans"
   ]
  },
  {
   "cell_type": "markdown",
   "id": "9715afe8-5c57-409f-974f-06fa6dc9a59e",
   "metadata": {},
   "source": [
    "## Part 1 - Linear Regression - 10 points"
   ]
  },
  {
   "cell_type": "markdown",
   "id": "17929019-200c-485a-83ed-2e25095e7011",
   "metadata": {},
   "source": [
    "### 1.1 - Read the data from Boston_Housing.csv file - 1 point\n",
    "* Print the number of rows in the dataframe"
   ]
  },
  {
   "cell_type": "code",
   "execution_count": 3,
   "id": "8c83e903-bbee-4a22-b4ff-56c0094bb015",
   "metadata": {},
   "outputs": [],
   "source": [
    "data = pd.read_csv('Boston_Housing.csv')"
   ]
  },
  {
   "cell_type": "markdown",
   "id": "aaf4a87b-f7e3-4cbe-95b3-2040c4ecf426",
   "metadata": {},
   "source": [
    "#### Column names in file and their description\n",
    "\n",
    "CRIM — per capita crime rate by town.\n",
    "\n",
    "ZN — proportion of residential land zoned for lots over 25,000 sq.ft.\n",
    "\n",
    "INDUS — proportion of non-retail business acres per town.\n",
    "\n",
    "CHAS — Charles River dummy variable (= 1 if tract bounds river; 0 otherwise).\n",
    "\n",
    "NOX — nitrogen oxides concentration (parts per 10 million).\n",
    "\n",
    "RM — average number of rooms per dwelling.\n",
    "\n",
    "AGE — proportion of owner-occupied units built prior to 1940.\n",
    "\n",
    "DIS — weighted mean of distances to five Boston employment centres.\n",
    "\n",
    "RAD — index of accessibility to radial highways.\n",
    "\n",
    "TAX — full-value property-tax rate per $10,000.\n",
    "\n",
    "PTRATIO — pupil-teacher ratio by town.\n",
    "\n",
    "BLACK — 1000(Bk — 0.63)² where Bk is the proportion of blacks by town.\n",
    "\n",
    "LSTAT — lower status of the population (percent).\n",
    "\n",
    "MV — median value of owner-occupied homes in $1000s. This is the target variable."
   ]
  },
  {
   "cell_type": "markdown",
   "id": "c1f434e1-061f-4f01-9f76-9e4157cac494",
   "metadata": {},
   "source": [
    "#### See one row of the dataframe"
   ]
  },
  {
   "cell_type": "code",
   "execution_count": 4,
   "id": "c0479824-6713-4071-8336-85e610fe02ca",
   "metadata": {},
   "outputs": [
    {
     "data": {
      "text/plain": [
       "CRIM         0.00632\n",
       "ZN          18.00000\n",
       "INDUS        2.31000\n",
       "CHAS         0.00000\n",
       "NOX          0.53800\n",
       "RM           6.57500\n",
       "AGE         65.20000\n",
       "DIS          4.09000\n",
       "RAD          1.00000\n",
       "TAX        296.00000\n",
       "PTRATIO     15.30000\n",
       "BLACK      396.90000\n",
       "LSTAT        4.98000\n",
       "MV          24.00000\n",
       "Name: 0, dtype: float64"
      ]
     },
     "execution_count": 4,
     "metadata": {},
     "output_type": "execute_result"
    }
   ],
   "source": [
    "data.iloc[0, :]"
   ]
  },
  {
   "cell_type": "markdown",
   "id": "70d7cd77-3b82-4f56-b0fb-3c96494e5e10",
   "metadata": {},
   "source": [
    "#### Print `info` of the dataframe"
   ]
  },
  {
   "cell_type": "code",
   "execution_count": 5,
   "id": "d89ac19b-c102-47cd-9f41-9bdf42e9d26e",
   "metadata": {},
   "outputs": [
    {
     "data": {
      "text/plain": [
       "<bound method DataFrame.info of         CRIM    ZN  INDUS  CHAS    NOX     RM   AGE     DIS  RAD    TAX  \\\n",
       "0    0.00632  18.0   2.31     0  0.538  6.575  65.2  4.0900    1  296.0   \n",
       "1    0.02731   0.0   7.07     0  0.469  6.421  78.9  4.9671    2  242.0   \n",
       "2    0.02729   0.0   7.07     0  0.469  7.185  61.1  4.9671    2  242.0   \n",
       "3    0.03237   0.0   2.18     0  0.458  6.998  45.8  6.0622    3  222.0   \n",
       "4    0.06905   0.0   2.18     0  0.458  7.147  54.2  6.0622    3  222.0   \n",
       "..       ...   ...    ...   ...    ...    ...   ...     ...  ...    ...   \n",
       "501  0.06263   0.0  11.93     0  0.573  6.593  69.1  2.4786    1  273.0   \n",
       "502  0.04527   0.0  11.93     0  0.573  6.120  76.7  2.2875    1  273.0   \n",
       "503  0.06076   0.0  11.93     0  0.573  6.976  91.0  2.1675    1  273.0   \n",
       "504  0.10959   0.0  11.93     0  0.573  6.794  89.3  2.3889    1  273.0   \n",
       "505  0.04741   0.0  11.93     0  0.573  6.030  80.8  2.5050    1  273.0   \n",
       "\n",
       "     PTRATIO   BLACK  LSTAT    MV  \n",
       "0       15.3  396.90   4.98  24.0  \n",
       "1       17.8  396.90   9.14  21.6  \n",
       "2       17.8  392.83   4.03  34.7  \n",
       "3       18.7  394.63   2.94  33.4  \n",
       "4       18.7  396.90   5.33  36.2  \n",
       "..       ...     ...    ...   ...  \n",
       "501     21.0  391.99   9.67  22.4  \n",
       "502     21.0  396.90   9.08  20.6  \n",
       "503     21.0  396.90   5.64  23.9  \n",
       "504     21.0  393.45   6.48  22.0  \n",
       "505     21.0  396.90   7.88  11.9  \n",
       "\n",
       "[506 rows x 14 columns]>"
      ]
     },
     "execution_count": 5,
     "metadata": {},
     "output_type": "execute_result"
    }
   ],
   "source": [
    "data.info"
   ]
  },
  {
   "cell_type": "markdown",
   "id": "0495d829-f7a3-4916-9673-8e263499204c",
   "metadata": {},
   "source": [
    "### 1.2 - Feature selection - 1 point\n",
    "\n",
    "#### Select the following features from the dataframe\n",
    "* Select the following features from the dataframe - ['CRIM' , 'ZN', 'INDUS', 'CHAS', 'NOX', 'RM', 'AGE', 'DIS', 'RAD', 'TAX', 'PTRATIO', 'BLACK', 'LSTAT', 'MV']\n",
    "* Print `info` of the resulting DataFrame to verify"
   ]
  },
  {
   "cell_type": "code",
   "execution_count": 6,
   "id": "81bb6a5b-3886-4000-a131-e48ba8d02514",
   "metadata": {},
   "outputs": [
    {
     "data": {
      "text/plain": [
       "<bound method DataFrame.info of         CRIM    ZN  INDUS  CHAS    NOX     RM   AGE     DIS  RAD    TAX  \\\n",
       "0    0.00632  18.0   2.31     0  0.538  6.575  65.2  4.0900    1  296.0   \n",
       "1    0.02731   0.0   7.07     0  0.469  6.421  78.9  4.9671    2  242.0   \n",
       "2    0.02729   0.0   7.07     0  0.469  7.185  61.1  4.9671    2  242.0   \n",
       "3    0.03237   0.0   2.18     0  0.458  6.998  45.8  6.0622    3  222.0   \n",
       "4    0.06905   0.0   2.18     0  0.458  7.147  54.2  6.0622    3  222.0   \n",
       "..       ...   ...    ...   ...    ...    ...   ...     ...  ...    ...   \n",
       "501  0.06263   0.0  11.93     0  0.573  6.593  69.1  2.4786    1  273.0   \n",
       "502  0.04527   0.0  11.93     0  0.573  6.120  76.7  2.2875    1  273.0   \n",
       "503  0.06076   0.0  11.93     0  0.573  6.976  91.0  2.1675    1  273.0   \n",
       "504  0.10959   0.0  11.93     0  0.573  6.794  89.3  2.3889    1  273.0   \n",
       "505  0.04741   0.0  11.93     0  0.573  6.030  80.8  2.5050    1  273.0   \n",
       "\n",
       "     PTRATIO   BLACK  LSTAT    MV  \n",
       "0       15.3  396.90   4.98  24.0  \n",
       "1       17.8  396.90   9.14  21.6  \n",
       "2       17.8  392.83   4.03  34.7  \n",
       "3       18.7  394.63   2.94  33.4  \n",
       "4       18.7  396.90   5.33  36.2  \n",
       "..       ...     ...    ...   ...  \n",
       "501     21.0  391.99   9.67  22.4  \n",
       "502     21.0  396.90   9.08  20.6  \n",
       "503     21.0  396.90   5.64  23.9  \n",
       "504     21.0  393.45   6.48  22.0  \n",
       "505     21.0  396.90   7.88  11.9  \n",
       "\n",
       "[506 rows x 14 columns]>"
      ]
     },
     "execution_count": 6,
     "metadata": {},
     "output_type": "execute_result"
    }
   ],
   "source": [
    "features = ['CRIM', 'ZN', 'INDUS', 'CHAS', 'NOX', 'RM', 'AGE', 'DIS', 'RAD', 'TAX', 'PTRATIO', 'BLACK', 'LSTAT', 'MV']\n",
    "data_subset = data[features]\n",
    "data_subset.info"
   ]
  },
  {
   "cell_type": "markdown",
   "id": "affd9a2b-2db1-462e-82d6-4a606c17e3b1",
   "metadata": {},
   "source": [
    "#### Drop rows where target variable `MV` has null values\n",
    "* Print the number of remaining rows"
   ]
  },
  {
   "cell_type": "code",
   "execution_count": 7,
   "id": "631ef7ec-f9d4-412d-885a-a63570cf799f",
   "metadata": {},
   "outputs": [
    {
     "data": {
      "text/plain": [
       "506"
      ]
     },
     "execution_count": 7,
     "metadata": {},
     "output_type": "execute_result"
    }
   ],
   "source": [
    "data_subset.dropna(subset=['MV'], inplace=True)\n",
    "data_subset.shape[0]"
   ]
  },
  {
   "cell_type": "markdown",
   "id": "099c8ccd-8f0a-4229-a2b9-fb9f736944bf",
   "metadata": {},
   "source": [
    "#### Fill null values of remaining columns using mean of the column values"
   ]
  },
  {
   "cell_type": "code",
   "execution_count": 8,
   "id": "045fbc46-7b2b-4484-93dc-ff2ff91de534",
   "metadata": {},
   "outputs": [],
   "source": [
    "feat_avg = {f: data_subset[f].mean() for f in features}\n",
    "data_subset.fillna(feat_avg, inplace=True)"
   ]
  },
  {
   "cell_type": "markdown",
   "id": "23f48398-1a43-43a4-9866-c190d2701027",
   "metadata": {},
   "source": [
    "### 1.3 - Train test split - 1 point"
   ]
  },
  {
   "cell_type": "markdown",
   "id": "618f09f4-93ab-4974-8e25-c7dea79ec1ed",
   "metadata": {},
   "source": [
    "#### Store features in variable `X` and target MV in variable `y`"
   ]
  },
  {
   "cell_type": "code",
   "execution_count": 9,
   "id": "6fd9d8fb-f567-42c4-885c-8a51e4fd5aff",
   "metadata": {},
   "outputs": [],
   "source": [
    "features = ['CRIM', 'ZN', 'INDUS', 'CHAS', 'NOX', 'RM', 'AGE', 'DIS', 'RAD', 'TAX', 'PTRATIO', 'BLACK', 'LSTAT']\n",
    "X = data_subset[features]\n",
    "y = data_subset['MV']"
   ]
  },
  {
   "cell_type": "markdown",
   "id": "859d689b-74df-4507-b2c0-45c541d2516f",
   "metadata": {},
   "source": [
    "#### Split the dataset into train and test split\n",
    " * Train dataframe and test dataframe with a 75:25 split between them\n",
    " * Pass `random_state=seed` to train_test_split function to reproduce results\n",
    " * Print the number of rows in train and test dataframes"
   ]
  },
  {
   "cell_type": "code",
   "execution_count": 10,
   "id": "bf333608-9960-49a4-b1da-871554a7a536",
   "metadata": {},
   "outputs": [
    {
     "name": "stdout",
     "output_type": "stream",
     "text": [
      "Train samples: 379\n",
      "Test samples: 127\n"
     ]
    }
   ],
   "source": [
    "X_train, X_test, y_train, y_test = train_test_split(X, y, test_size=0.25, random_state=seed)\n",
    "print(f\"Train samples: {X_train.shape[0]}\\nTest samples: {X_test.shape[0]}\")"
   ]
  },
  {
   "cell_type": "markdown",
   "id": "4fe7101b-1545-4e84-af38-bd9c0a0e1194",
   "metadata": {},
   "source": [
    "### 1.4 - Standardize the data - 1 point\n",
    "\n",
    "#### Use `StandardScaler` to fit a scaler model\n",
    "* Use the StandardScaler to standardize your data(only the features, not the target).\n",
    "* **IMPORTANT** - Use only the training data for scaling\n",
    "* Standardization results in each column having zero mean and unit standard deviation"
   ]
  },
  {
   "cell_type": "code",
   "execution_count": 11,
   "id": "0625e97c-1909-4444-ac61-eb14415d82e9",
   "metadata": {},
   "outputs": [
    {
     "data": {
      "text/plain": [
       "StandardScaler()"
      ]
     },
     "execution_count": 11,
     "metadata": {},
     "output_type": "execute_result"
    }
   ],
   "source": [
    "scaler = StandardScaler()\n",
    "scaler.fit(X_train)"
   ]
  },
  {
   "cell_type": "markdown",
   "id": "e40de455-f840-4711-883b-4ced17a533dd",
   "metadata": {},
   "source": [
    "#### Scale your training and test data\n",
    "\n",
    "**NOTE** - Use scaled data for both training and testing in the subsequent tasks"
   ]
  },
  {
   "cell_type": "code",
   "execution_count": 12,
   "id": "5559a544-ab1d-4503-a16c-e0157f06571a",
   "metadata": {},
   "outputs": [],
   "source": [
    "X_train_scaled = scaler.transform(X_train)\n",
    "X_test_scaled = scaler.transform(X_test)"
   ]
  },
  {
   "cell_type": "markdown",
   "id": "392ca6a1-3814-4d49-8e39-ab79ee049222",
   "metadata": {},
   "source": [
    "#### Print the mean and standard deviation of each column(for the training data). What do you observe?\n",
    "\n",
    "* NOTE - The output should have same number of values as the number of features"
   ]
  },
  {
   "cell_type": "code",
   "execution_count": 13,
   "id": "af1b3a52-2236-47eb-a490-c74bc7d18716",
   "metadata": {},
   "outputs": [
    {
     "name": "stdout",
     "output_type": "stream",
     "text": [
      "Mean of scaled train:\n",
      "[-8.43652325e-17  2.22630475e-17  3.35117451e-16 -1.64043508e-17\n",
      " -4.89787044e-16 -4.92130523e-17 -9.84261046e-17  1.40608721e-17\n",
      "  8.08500145e-17  9.72543652e-17 -7.82721879e-16 -1.17173934e-17\n",
      " -2.23802214e-16]\n",
      " STD of scaled train:\n",
      "[1. 1. 1. 1. 1. 1. 1. 1. 1. 1. 1. 1. 1.]\n"
     ]
    }
   ],
   "source": [
    "'''\n",
    "Mean is approximately 0 for all features and std is 1.\n",
    "Z-score/standardization of data should result in 0 mean and 1 std\n",
    "'''\n",
    "\n",
    "print(f\"Mean of scaled train:\\n{X_train_scaled.mean(axis=0)}\\n \\\n",
    "STD of scaled train:\\n{X_train_scaled.std(axis=0)}\")"
   ]
  },
  {
   "cell_type": "markdown",
   "id": "c0874d3f-0d2c-49c8-bde5-198f6ab77a25",
   "metadata": {},
   "source": [
    "#### Repeat the same for test data. Is it different from the results of the previous question?"
   ]
  },
  {
   "cell_type": "code",
   "execution_count": 14,
   "id": "d52cb211-1a92-4555-8d13-4067cc5847f3",
   "metadata": {},
   "outputs": [
    {
     "name": "stdout",
     "output_type": "stream",
     "text": [
      "Mean of scaled test:\n",
      "[ 0.06951624 -0.04019505  0.0096419  -0.11012204 -0.1216211  -0.21530661\n",
      " -0.08242076  0.05967915  0.08716665  0.07029107  0.33777906 -0.09542056\n",
      "  0.07801058]\n",
      " STD of scaled test:\n",
      "[1.13119029 1.03967212 0.94688298 0.79812475 0.88182689 0.88137933\n",
      " 1.06154545 0.98685927 1.04678915 1.05771171 0.75901064 1.16102123\n",
      " 0.99533725]\n"
     ]
    }
   ],
   "source": [
    "'''\n",
    "Yes, but this makes sense. The test set has a slightly different mean and standard eviation.\n",
    "The mean is close to 0 and std is close to 1, but it is not exactly the same which is to be expected.\n",
    "'''\n",
    "\n",
    "print(f\"Mean of scaled test:\\n{X_test_scaled.mean(axis=0)}\\n \\\n",
    "STD of scaled test:\\n{X_test_scaled.std(axis=0)}\")"
   ]
  },
  {
   "cell_type": "markdown",
   "id": "c1c649c3-82d6-4202-be2e-9defe648b987",
   "metadata": {},
   "source": [
    "### 1.5 - Training - 1 points\n",
    "\n",
    "#### Use `LinearRegression` for training a regression model"
   ]
  },
  {
   "cell_type": "code",
   "execution_count": 15,
   "id": "bba5f64b-61d6-4013-8711-86838fc97065",
   "metadata": {},
   "outputs": [
    {
     "data": {
      "text/plain": [
       "LinearRegression()"
      ]
     },
     "execution_count": 15,
     "metadata": {},
     "output_type": "execute_result"
    }
   ],
   "source": [
    "regressor = LinearRegression()\n",
    "regressor.fit(X_train_scaled, y_train)"
   ]
  },
  {
   "cell_type": "markdown",
   "id": "ed7513e2-bddb-42a3-b95e-82bdd7a2b66d",
   "metadata": {},
   "source": [
    "#### Print the coefficients and intercept of the linear regression model"
   ]
  },
  {
   "cell_type": "code",
   "execution_count": 16,
   "id": "5c2b2887-0382-4f3e-b287-07e8766d5bf5",
   "metadata": {},
   "outputs": [
    {
     "name": "stdout",
     "output_type": "stream",
     "text": [
      "Coeffs:\n",
      "[-1.06546379  0.68154987  0.33928836  0.73726309 -1.93178062  3.14172655\n",
      " -0.25586276 -2.95561026  2.21416067 -1.65127265 -2.08714915  1.15235744\n",
      " -3.69504236] \n",
      "intercept:\n",
      "22.90791556728232\n"
     ]
    }
   ],
   "source": [
    "print(f\"Coeffs:\\n{regressor.coef_} \\\n",
    "\\nintercept:\\n{regressor.intercept_}\")"
   ]
  },
  {
   "cell_type": "markdown",
   "id": "52ba796a-6b86-4802-b51d-fa526ffe27c8",
   "metadata": {},
   "source": [
    "#### Print the training results\n",
    "* Print the mean squared error(MSE) and coefficient of determination(r2) of the training data\n",
    "\n",
    "**IMPORTANT** - r2 score is not a symmetric function. Refer to the documentation [here](https://scikit-learn.org/stable/modules/generated/sklearn.metrics.r2_score.html)"
   ]
  },
  {
   "cell_type": "code",
   "execution_count": 17,
   "id": "1eee216a-4d63-431e-a950-4c49da583696",
   "metadata": {},
   "outputs": [
    {
     "name": "stdout",
     "output_type": "stream",
     "text": [
      "MSE: 22.340057992152875\n",
      "r2: 0.748087259862344\n"
     ]
    }
   ],
   "source": [
    "train_pred = regressor.predict(X_train_scaled)\n",
    "train_mse = mean_squared_error(y_true = y_train, y_pred = train_pred)\n",
    "train_r2 = r2_score(y_train, train_pred)\n",
    "print(f\"MSE: {train_mse}\\nr2: {train_r2}\")"
   ]
  },
  {
   "cell_type": "markdown",
   "id": "ecd49d3f-ccee-4e83-b47e-a8f743b925fd",
   "metadata": {},
   "source": [
    "### 1.6 - Test the model on test data - 1 point\n",
    "* Print the MSE and r2 on test data. Is it very different from the result on training data?"
   ]
  },
  {
   "cell_type": "code",
   "execution_count": 18,
   "id": "0bf9ca78-68bc-4df3-bcae-2fc93fde2957",
   "metadata": {},
   "outputs": [
    {
     "name": "stdout",
     "output_type": "stream",
     "text": [
      "MSE: 22.098694827097976\n",
      "r2: 0.6844267283527132\n"
     ]
    }
   ],
   "source": [
    "'''\n",
    "The train and test mse are pretty similr. The r2 value is a bit worse than the train r2.\n",
    "'''\n",
    "\n",
    "test_pred = regressor.predict(X_test_scaled)\n",
    "test_mse = mean_squared_error(y_true = y_test, y_pred = test_pred)\n",
    "test_r2 = r2_score(y_test, test_pred)\n",
    "print(f\"MSE: {test_mse}\\nr2: {test_r2}\")"
   ]
  },
  {
   "cell_type": "markdown",
   "id": "e9328abf-192f-4e57-8acd-661e2447c431",
   "metadata": {},
   "source": [
    "### 1.7 - Plot results on test data(using matplotlib) - 2 points\n",
    "\n",
    " * For the test data, you have true values(labels), and you also have predictions\n",
    " * Plot a scatter plot of the true values(in blue) and predicted values(in red) on a single plot so that you can visualize how the predictions look as compared to the ground truth.\n",
    "\n",
    "**NOTE** - It is NOT a scatter plot of true vs predicted values. Instead, the plot should be a scatter plot of **index vs true values** in blue and **index vs predicted values** in red. Here, index ranges from 0 to length of the dataset"
   ]
  },
  {
   "cell_type": "code",
   "execution_count": 19,
   "id": "1955efec-7719-49bd-ac9b-74171010c511",
   "metadata": {},
   "outputs": [
    {
     "data": {
      "text/plain": [
       "Text(0, 0.5, 'Median House Value ($10000s)')"
      ]
     },
     "execution_count": 19,
     "metadata": {},
     "output_type": "execute_result"
    },
    {
     "data": {
      "image/png": "[encoded data removed]",
      "text/plain": [
       "<Figure size 720x720 with 1 Axes>"
      ]
     },
     "metadata": {
      "needs_background": "light"
     },
     "output_type": "display_data"
    }
   ],
   "source": [
    "# x_train = X_train.index\n",
    "x_train_i = X_train.index\n",
    "x_test_i = X_test.index\n",
    "plt.figure(figsize=(10,10))\n",
    "plt.scatter(x_test_i, y_test, c='b')\n",
    "plt.scatter(x_test_i, test_pred, c='r')\n",
    "plt.xlabel('Index')\n",
    "plt.ylabel('Median House Value ($10000s)')"
   ]
  },
  {
   "cell_type": "markdown",
   "id": "e6651b1f-62eb-461f-9b8b-fb6aefc51714",
   "metadata": {},
   "source": [
    "### 1.8 - Repeat training and testing with `ElasticNet` instead of `LinearRegression` - 2 points\n",
    "* Compute the MSE and r2 score on test data. Are the results better or worse compared to the results obtained using `LinearRegression`?"
   ]
  },
  {
   "cell_type": "code",
   "execution_count": 20,
   "id": "2496c9b1-fcaf-4b81-9769-a333eba5921c",
   "metadata": {},
   "outputs": [
    {
     "name": "stdout",
     "output_type": "stream",
     "text": [
      "linear MSE: 22.098694827097976\n",
      "linear r2: 0.6844267283527132\n",
      "enet MSE: 26.540970518317174\n",
      "enet r2: 0.6209902455918285\n"
     ]
    }
   ],
   "source": [
    "'''\n",
    "Elastic net has a higher MSE and a lower r2.\n",
    "Overall, it seems elastic net is worse, but further tests would be needed to verify claim\n",
    "(ie: is it significantly different considering MSE and r2 are not that far off from each other)\n",
    "'''\n",
    "# Train elastic net\n",
    "enet = ElasticNet(random_state=seed)\n",
    "enet.fit(X_train_scaled, y_train)\n",
    "\n",
    "# Predict with trained elastic net\n",
    "enet_test_pred = enet.predict(X_test_scaled)\n",
    "\n",
    "# Get metrics on test data\n",
    "enet_mse = mean_squared_error(y_true = y_test, y_pred = enet_test_pred)\n",
    "enet_r2 = r2_score(y_test, enet_test_pred)\n",
    "print(f\"linear MSE: {test_mse}\\nlinear r2: {test_r2}\\nenet MSE: {enet_mse}\\nenet r2: {enet_r2}\")"
   ]
  },
  {
   "cell_type": "markdown",
   "id": "aeb49896-e188-486f-ae45-500e7c44dcb0",
   "metadata": {},
   "source": [
    "## Part 2 - Clustering - 5 points"
   ]
  },
  {
   "cell_type": "markdown",
   "id": "6f75465a-745b-4cdf-b724-beca9fccd7e1",
   "metadata": {},
   "source": [
    "### 2.1 - Load Data - 1 point\n",
    "- Load the \"minute_weather.csv\" into the Pandas dataframe\n",
    "- Drop the two columns [\"rowID\", \"hpwren_timestamp\"] from the dataframe\n",
    "- Drop null values from the dataframe\n",
    "- Print the `info` of the dataframe"
   ]
  },
  {
   "cell_type": "code",
   "execution_count": 21,
   "id": "510e46a9-fc2d-44ce-a87a-6ab8da963549",
   "metadata": {},
   "outputs": [
    {
     "data": {
      "text/plain": [
       "<bound method DataFrame.info of          air_pressure  air_temp  avg_wind_direction  avg_wind_speed  \\\n",
       "1               912.3     63.86               161.0             0.8   \n",
       "2               912.3     64.22                77.0             0.7   \n",
       "3               912.3     64.40                89.0             1.2   \n",
       "4               912.3     64.40               185.0             0.4   \n",
       "5               912.3     63.50                76.0             2.5   \n",
       "...               ...       ...                 ...             ...   \n",
       "1587252         915.9     74.66                 1.0             1.8   \n",
       "1587253         915.9     74.66                 9.0             1.6   \n",
       "1587254         915.9     74.66                15.0             1.7   \n",
       "1587255         915.9     74.66                 8.0             1.8   \n",
       "1587256         915.9     74.66                12.0             1.9   \n",
       "\n",
       "         max_wind_direction  max_wind_speed  min_wind_direction  \\\n",
       "1                     215.0             1.5                43.0   \n",
       "2                     143.0             1.2               324.0   \n",
       "3                     112.0             1.6                12.0   \n",
       "4                     260.0             1.0               100.0   \n",
       "5                      92.0             3.0                61.0   \n",
       "...                     ...             ...                 ...   \n",
       "1587252                11.0             2.1               357.0   \n",
       "1587253                19.0             1.8               353.0   \n",
       "1587254                42.0             2.3               353.0   \n",
       "1587255                24.0             2.2               355.0   \n",
       "1587256                21.0             2.2               357.0   \n",
       "\n",
       "         min_wind_speed  rain_accumulation  rain_duration  relative_humidity  \n",
       "1                   0.2                0.0            0.0               39.9  \n",
       "2                   0.3                0.0            0.0               43.0  \n",
       "3                   0.7                0.0            0.0               49.5  \n",
       "4                   0.1                0.0            0.0               58.8  \n",
       "5                   2.0                0.0            0.0               62.6  \n",
       "...                 ...                ...            ...                ...  \n",
       "1587252             1.6                0.0            0.0               46.3  \n",
       "1587253             1.4                0.0            0.0               46.2  \n",
       "1587254             1.2                0.0            0.0               46.3  \n",
       "1587255             1.4                0.0            0.0               46.2  \n",
       "1587256             1.5                0.0            0.0               46.3  \n",
       "\n",
       "[1586823 rows x 11 columns]>"
      ]
     },
     "execution_count": 21,
     "metadata": {},
     "output_type": "execute_result"
    }
   ],
   "source": [
    "weather_data = pd.read_csv('minute_weather.csv')\n",
    "weather_data.drop(columns=['rowID', 'hpwren_timestamp'], inplace=True)\n",
    "weather_data.dropna(inplace=True)\n",
    "weather_data.info"
   ]
  },
  {
   "cell_type": "markdown",
   "id": "46def1bc-90bb-45b3-be25-7e35ed59341d",
   "metadata": {},
   "source": [
    "### 2.2 - Data preprocessing and standardization - 1 points\n",
    "\n",
    "#### Split into train and test data\n",
    "* Split the dataset into train dataframe and test dataframe with a 75:25 split between them\n",
    "* Pass `random_state=seed` to train_test_split function to reproduce results\n",
    "* Print the number of rows in the train and test dataframes"
   ]
  },
  {
   "cell_type": "code",
   "execution_count": 22,
   "id": "05553905-d074-45de-a6d8-b3617858d5a6",
   "metadata": {},
   "outputs": [
    {
     "name": "stdout",
     "output_type": "stream",
     "text": [
      "Train samples: 1190117\n",
      "Test samples: 396706\n"
     ]
    }
   ],
   "source": [
    "w_train, w_test = train_test_split(weather_data, test_size=0.25, random_state=seed)\n",
    "print(f\"Train samples: {w_train.shape[0]}\\nTest samples: {w_test.shape[0]}\")"
   ]
  },
  {
   "cell_type": "markdown",
   "id": "20cefb00-5404-43a6-8618-7a019cf802b6",
   "metadata": {},
   "source": [
    "#### Standardize the data\n",
    "\n",
    "* Use the StandardScaler to standardize your data. Unlike the regression problem, all columns are features here i.e. there is no `target` variable\n",
    "* **IMPORTANT** - Use only the training data for scaling\n",
    "* Print out the mean and standard deviation along the feature columns of both the train and the test dataset after standardization. What do you observe?"
   ]
  },
  {
   "cell_type": "code",
   "execution_count": 23,
   "id": "7a07c2f2-1fb2-4371-a674-db4d912fb4ab",
   "metadata": {},
   "outputs": [
    {
     "name": "stdout",
     "output_type": "stream",
     "text": [
      "Mean of scaled train:\n",
      "[-1.81612881e-13 -1.57331235e-15 -4.46941176e-17  2.64815334e-17\n",
      "  3.38101507e-17  1.07335139e-16 -8.82553594e-17  3.71010133e-16\n",
      "  4.18671520e-19  2.23888513e-21 -6.90746812e-16]\n",
      " STD of scaled train:\n",
      "[1. 1. 1. 1. 1. 1. 1. 1. 1. 1. 1.]\n",
      "Mean of scaled test:\n",
      "[ 3.01032775e-03 -4.05684942e-04 -2.94569170e-03  2.44357790e-04\n",
      " -3.96447503e-03  1.17821641e-03 -1.72709214e-05 -7.85155543e-04\n",
      "  6.60442844e-03  4.00526445e-03 -1.08908016e-03]\n",
      " STD of scaled test:\n",
      "[1.00178833 1.00011991 1.00082348 0.99981642 1.00005743 1.00035735\n",
      " 1.00092705 0.99991437 2.76745539 2.01270681 0.99991031]\n"
     ]
    }
   ],
   "source": [
    "'''\n",
    "All of the means for both the train and test set are clsoe to 0. The mean of the train is much closer to 0 than the test which is not unexpected.\n",
    "Rain accumulation and rain duration are further from the unit standard deviation than the training set.\n",
    "Rain accumulation in the training set is almost 3x as far from the unit std and rain duration is twice the unit std.\n",
    "'''\n",
    "\n",
    "w_scaler = StandardScaler()\n",
    "w_scaler.fit(w_train)\n",
    "w_train_scaled = w_scaler.transform(w_train)\n",
    "w_test_scaled = w_scaler.transform(w_test)\n",
    "print(f\"Mean of scaled train:\\n{w_train_scaled.mean(axis=0)}\\n \\\n",
    "STD of scaled train:\\n{w_train_scaled.std(axis=0)}\")\n",
    "print(f\"Mean of scaled test:\\n{w_test_scaled.mean(axis=0)}\\n \\\n",
    "STD of scaled test:\\n{w_test_scaled.std(axis=0)}\")"
   ]
  },
  {
   "cell_type": "markdown",
   "id": "f1c99a87-13d6-40f6-8a22-7860c79dcd69",
   "metadata": {},
   "source": [
    "### 2.3 - Build a KMeans Clustering Model - 1 point\n",
    "- Use the standardized training dataset to fit a K-means model with **9** clusters\n",
    "    * Pass `random_state=seed` to `KMeans` for reproducing results\n",
    "- Print out the cluster centers found by the model"
   ]
  },
  {
   "cell_type": "code",
   "execution_count": 24,
   "id": "0874907b-3169-4d4e-900f-5f42864a45d7",
   "metadata": {},
   "outputs": [
    {
     "data": {
      "text/plain": [
       "array([[ 1.24207712e+00, -2.13292526e-01, -1.15106531e+00,\n",
       "         1.78360728e+00, -1.05362148e+00,  1.87555120e+00,\n",
       "        -1.30047028e+00,  1.58815504e+00, -1.46546680e-03,\n",
       "        -6.48086631e-03, -1.10556579e+00],\n",
       "       [-2.03917242e-01,  5.52858600e-01,  4.08692516e-01,\n",
       "         5.24726304e-01,  4.75422894e-01,  4.67546664e-01,\n",
       "         2.44880763e-01,  5.69099414e-01, -1.47578312e-03,\n",
       "        -7.30390857e-03, -1.81891374e-01],\n",
       "       [ 1.11165671e-01,  6.98629545e-01,  8.83166214e-01,\n",
       "        -6.69809319e-01,  5.92995949e-01, -6.45121222e-01,\n",
       "         5.97075653e-01, -6.77993887e-01, -1.48921126e-03,\n",
       "        -7.47029684e-03, -6.04793148e-01],\n",
       "       [ 2.54621689e-01,  1.77032271e-01, -1.13191438e+00,\n",
       "        -4.96294548e-01, -1.02154818e+00, -5.20492049e-01,\n",
       "        -1.30133605e+00, -4.37793952e-01, -1.40225290e-03,\n",
       "        -5.40161996e-03, -3.17722065e-01],\n",
       "       [ 7.77684576e-01,  7.01764753e-01, -7.35756670e-01,\n",
       "        -8.12356822e-01, -5.35854727e-01, -7.01252894e-01,\n",
       "        -9.42392416e-01, -9.93177226e-01,  8.76220783e+01,\n",
       "         5.70452104e+02, -1.34319613e+00],\n",
       "       [ 4.82616220e-01,  5.04002001e-01, -1.20850322e+00,\n",
       "         4.08852888e+00, -1.08800738e+00,  4.12757106e+00,\n",
       "        -1.34263817e+00,  3.93411057e+00,  1.08726800e+03,\n",
       "         9.25183883e+02, -1.16005256e+00],\n",
       "       [ 2.99391977e-01,  2.74228818e-01, -1.52631322e+00,\n",
       "        -6.11376746e-01, -1.20573886e+00, -5.37595921e-01,\n",
       "         1.79809430e+00, -6.62381652e-01, -1.47176450e-03,\n",
       "        -6.56139831e-03, -3.60531026e-01],\n",
       "       [-1.04013153e+00, -8.96927844e-01,  4.24985775e-01,\n",
       "         1.68782530e+00,  5.15364109e-01,  1.62517057e+00,\n",
       "         2.53973964e-01,  1.70972294e+00,  2.00017196e-03,\n",
       "         2.85246109e-02,  9.76596008e-01],\n",
       "       [-2.33957795e-01, -1.01720537e+00,  5.22452401e-01,\n",
       "        -3.52901271e-01,  5.15451780e-01, -3.32989615e-01,\n",
       "         2.76660104e-01, -3.71100904e-01, -7.75441163e-04,\n",
       "         3.54438768e-03,  1.20527086e+00]])"
      ]
     },
     "execution_count": 24,
     "metadata": {},
     "output_type": "execute_result"
    }
   ],
   "source": [
    "kmeans = KMeans(n_clusters=9, random_state=seed)\n",
    "kmeans = kmeans.fit(w_train_scaled)\n",
    "centers = kmeans.cluster_centers_\n",
    "centers"
   ]
  },
  {
   "cell_type": "markdown",
   "id": "78db9756-2e24-4c43-b766-ba1854c161e6",
   "metadata": {},
   "source": [
    "### Evaluate Model - 1 point\n",
    "\n",
    "- Print out the `inertia_` variable of the model\n",
    "\n",
    "- Print out the mean of within-cluster sum of squares (MWSSE) on the _train_ and _test_ set\n",
    "\n",
    "**NOTE** - WSSE is the negative of the [`KMeans.score`](https://scikit-learn.org/stable/modules/generated/sklearn.cluster.KMeans.html#sklearn.cluster.KMeans.score) method. Divide it by the length of the dataset to get the mean WSSE"
   ]
  },
  {
   "cell_type": "code",
   "execution_count": 25,
   "id": "97a61422-af47-49fc-a31d-eacce8764b89",
   "metadata": {},
   "outputs": [],
   "source": [
    "def calc_wsse(k_model, input_matr):\n",
    "    return -1 * k_model.score(input_matr) / input_matr.shape[0]"
   ]
  },
  {
   "cell_type": "code",
   "execution_count": 26,
   "id": "425e40ca-1723-4c8a-801e-94f2e3c9ee6b",
   "metadata": {},
   "outputs": [
    {
     "name": "stdout",
     "output_type": "stream",
     "text": [
      "Inertia: 4176049.184457694\n",
      "Train WSSE: 3.508940032331018\n",
      "Test WSSE: 4.47883023861959\n"
     ]
    }
   ],
   "source": [
    "print(f\"Inertia: {kmeans.inertia_}\")\n",
    "train_wsse = calc_wsse(kmeans, w_train_scaled)\n",
    "test_wsse = calc_wsse(kmeans, w_test_scaled)\n",
    "print(f\"Train WSSE: {train_wsse}\\nTest WSSE: {test_wsse}\")"
   ]
  },
  {
   "cell_type": "markdown",
   "id": "d843e6b1-cdb5-476b-b0e9-b5a2d9493509",
   "metadata": {},
   "source": [
    "### 2.5 - Experiment with `k` values from 5 to 10. What `k` value gives the best result on the test data? - 1 point"
   ]
  },
  {
   "cell_type": "code",
   "execution_count": 27,
   "id": "e3ccbee4-1b9c-41a6-ba60-c94a4f40576b",
   "metadata": {},
   "outputs": [
    {
     "name": "stdout",
     "output_type": "stream",
     "text": [
      "k: 5\n",
      "Train WSSE: [5.11117984]\n",
      "Test WSSE: [5.81197862]\n",
      "k: 6\n",
      "Train WSSE: [4.52634299]\n",
      "Test WSSE: [5.22337223]\n",
      "k: 7\n",
      "Train WSSE: [4.08657149]\n",
      "Test WSSE: [4.77836953]\n",
      "k: 8\n",
      "Train WSSE: [3.78880932]\n",
      "Test WSSE: [4.47878969]\n",
      "k: 9\n",
      "Train WSSE: [3.50894003]\n",
      "Test WSSE: [4.47883024]\n",
      "k: 10\n",
      "Train WSSE: [3.30344828]\n",
      "Test WSSE: [3.99520755]\n",
      "99.05457592010498\n"
     ]
    }
   ],
   "source": [
    "'''\n",
    "Based on the WSSE dropping for both train and test, the best choice seems to be k=10.\n",
    "When plotting the WSSE as a function of number of clusters, the WSSE keeps on dropping without a strong\n",
    "indication of an elbow. It does look like the train WSSE is starting to level off by the time k=10 as the slope seems to be changing more slowly,\n",
    "but more k values would need to be ran to verify.\n",
    "'''\n",
    "start = time.time()\n",
    "train_wsse = np.full((6, 1), np.nan)\n",
    "test_wsse =  np.full((6, 1), np.nan)\n",
    "train_inertia = np.full((6, 1), np.nan)\n",
    "for i, k in enumerate(range(5,11)):\n",
    "    kmeans = KMeans(n_clusters=k, random_state=seed)\n",
    "    kmeans = kmeans.fit(w_train_scaled)\n",
    "    train_inertia[i] = kmeans.inertia_\n",
    "    train_wsse[i] = calc_wsse(kmeans, w_train_scaled)\n",
    "    test_wsse[i] = calc_wsse(kmeans, w_test_scaled)\n",
    "    print(f\"k: {k}\\nTrain WSSE: {train_wsse[i]}\\nTest WSSE: {test_wsse[i]}\")\n",
    "print(f\"{time.time() - start}\")"
   ]
  },
  {
   "cell_type": "code",
   "execution_count": 28,
   "id": "8a2b9494-b129-415e-a712-3352422d8571",
   "metadata": {},
   "outputs": [
    {
     "data": {
      "text/plain": [
       "Text(0, 0.5, 'Inertia')"
      ]
     },
     "execution_count": 28,
     "metadata": {},
     "output_type": "execute_result"
    },
    {
     "data": {
      "text/plain": [
       "<Figure size 432x288 with 0 Axes>"
      ]
     },
     "metadata": {},
     "output_type": "display_data"
    },
    {
     "data": {
      "image/png": "[encoded data removed]",
      "text/plain": [
       "<Figure size 432x288 with 2 Axes>"
      ]
     },
     "metadata": {
      "needs_background": "light"
     },
     "output_type": "display_data"
    },
    {
     "data": {
      "image/png": "[encoded data removed]",
      "text/plain": [
       "<Figure size 432x288 with 1 Axes>"
      ]
     },
     "metadata": {
      "needs_background": "light"
     },
     "output_type": "display_data"
    }
   ],
   "source": [
    "plt.figure()\n",
    "plt.subplots(1, 2, sharey = True, tight_layout=True)\n",
    "plt.subplot(1, 2, 1)\n",
    "plt.plot(list(range(5,11)), train_wsse)\n",
    "plt.title('Train WSSE')\n",
    "plt.xlabel('Total Clusters')\n",
    "plt.ylabel('WSSE')\n",
    "plt.subplot(1,2,2)\n",
    "plt.plot(list(range(5,11)), test_wsse)\n",
    "plt.title('Test WSSE')\n",
    "plt.xlabel('Total Clusters')\n",
    "\n",
    "plt.figure()\n",
    "plt.plot(list(range(5,11)), train_inertia)\n",
    "plt.title('Inertia')\n",
    "plt.xlabel('Total Clusters')\n",
    "plt.ylabel('Inertia')"
   ]
  }
 ],
 "metadata": {
  "kernelspec": {
   "display_name": "Python 3 (ipykernel)",
   "language": "python",
   "name": "python3"
  },
  "language_info": {
   "codemirror_mode": {
    "name": "ipython",
    "version": 3
   },
   "file_extension": ".py",
   "mimetype": "text/x-python",
   "name": "python",
   "nbconvert_exporter": "python",
   "pygments_lexer": "ipython3",
   "version": "3.9.9"
  }
 },
 "nbformat": 4,
 "nbformat_minor": 5
}
